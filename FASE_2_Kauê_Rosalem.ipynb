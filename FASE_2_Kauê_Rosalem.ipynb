{
 "cells": [
  {
   "cell_type": "markdown",
   "metadata": {},
   "source": [
    "### Bloco 2 | Projeto de Experiência\n",
    "### Primeira Entrega (N1) - FASE 2"
   ]
  },
  {
   "cell_type": "markdown",
   "metadata": {},
   "source": [
    "####  - Nome: Kauê Cabrera Rosalem\n",
    "####  - Disciplina: Projeto de Experiência\n",
    "####  - Projeto: FASE 2 - Desvendando crimes na cidade de Boston"
   ]
  },
  {
   "cell_type": "markdown",
   "metadata": {},
   "source": [
    "### Importação das Bibliotecas Principais"
   ]
  },
  {
   "cell_type": "code",
   "execution_count": 1,
   "metadata": {},
   "outputs": [],
   "source": [
    "import matplotlib.pyplot as plt\n",
    "import seaborn as sns\n",
    "import pandas as pd\n",
    "import pylab as pl\n",
    "import numpy as np \n",
    "import scipy.optimize as opt\n",
    "from sklearn import preprocessing"
   ]
  },
  {
   "cell_type": "markdown",
   "metadata": {},
   "source": [
    "### Importação da Base de Dados"
   ]
  },
  {
   "cell_type": "markdown",
   "metadata": {},
   "source": [
    "Lendo o arquivo csv com registros separados por \";\" e criando uma base de dados:"
   ]
  },
  {
   "cell_type": "code",
   "execution_count": 2,
   "metadata": {},
   "outputs": [
    {
     "data": {
      "text/html": [
       "<div>\n",
       "<style scoped>\n",
       "    .dataframe tbody tr th:only-of-type {\n",
       "        vertical-align: middle;\n",
       "    }\n",
       "\n",
       "    .dataframe tbody tr th {\n",
       "        vertical-align: top;\n",
       "    }\n",
       "\n",
       "    .dataframe thead th {\n",
       "        text-align: right;\n",
       "    }\n",
       "</style>\n",
       "<table border=\"1\" class=\"dataframe\">\n",
       "  <thead>\n",
       "    <tr style=\"text-align: right;\">\n",
       "      <th></th>\n",
       "      <th>NUMERO_INCIDENTE</th>\n",
       "      <th>CODIGO_CRIME</th>\n",
       "      <th>CODIGO_GRUPO_CRIME</th>\n",
       "      <th>DESCRICAO_CRIME</th>\n",
       "      <th>DISTRITO</th>\n",
       "      <th>AREA_REPORTADA</th>\n",
       "      <th>TEVE_TIRO</th>\n",
       "      <th>DATA_OCORRENCIA</th>\n",
       "      <th>ANO</th>\n",
       "      <th>MES</th>\n",
       "      <th>DIA_DA_SEMANA</th>\n",
       "      <th>HORA</th>\n",
       "      <th>ALTO_RISCO</th>\n",
       "    </tr>\n",
       "  </thead>\n",
       "  <tbody>\n",
       "    <tr>\n",
       "      <th>0</th>\n",
       "      <td>I182070933</td>\n",
       "      <td>724</td>\n",
       "      <td>Auto Theft</td>\n",
       "      <td>AUTO THEFT</td>\n",
       "      <td>B2</td>\n",
       "      <td>330</td>\n",
       "      <td>0</td>\n",
       "      <td>03/09/18 21:25</td>\n",
       "      <td>2018</td>\n",
       "      <td>9</td>\n",
       "      <td>Monday</td>\n",
       "      <td>21</td>\n",
       "      <td>0.0</td>\n",
       "    </tr>\n",
       "    <tr>\n",
       "      <th>1</th>\n",
       "      <td>I182070932</td>\n",
       "      <td>3301</td>\n",
       "      <td>Verbal Disputes</td>\n",
       "      <td>VERBAL DISPUTE</td>\n",
       "      <td>B2</td>\n",
       "      <td>584</td>\n",
       "      <td>0</td>\n",
       "      <td>03/09/18 20:39</td>\n",
       "      <td>2018</td>\n",
       "      <td>9</td>\n",
       "      <td>Monday</td>\n",
       "      <td>20</td>\n",
       "      <td>0.0</td>\n",
       "    </tr>\n",
       "    <tr>\n",
       "      <th>2</th>\n",
       "      <td>I182070917</td>\n",
       "      <td>2647</td>\n",
       "      <td>Other</td>\n",
       "      <td>THREATS TO DO BODILY HARM</td>\n",
       "      <td>B2</td>\n",
       "      <td>901</td>\n",
       "      <td>0</td>\n",
       "      <td>03/09/18 19:52</td>\n",
       "      <td>2018</td>\n",
       "      <td>9</td>\n",
       "      <td>Monday</td>\n",
       "      <td>19</td>\n",
       "      <td>0.0</td>\n",
       "    </tr>\n",
       "    <tr>\n",
       "      <th>3</th>\n",
       "      <td>I182070915</td>\n",
       "      <td>614</td>\n",
       "      <td>Larceny From Motor Vehicle</td>\n",
       "      <td>LARCENY THEFT FROM MV - NON-ACCESSORY</td>\n",
       "      <td>B2</td>\n",
       "      <td>181</td>\n",
       "      <td>0</td>\n",
       "      <td>02/09/18 18:00</td>\n",
       "      <td>2018</td>\n",
       "      <td>9</td>\n",
       "      <td>Sunday</td>\n",
       "      <td>18</td>\n",
       "      <td>0.0</td>\n",
       "    </tr>\n",
       "    <tr>\n",
       "      <th>4</th>\n",
       "      <td>I182070908</td>\n",
       "      <td>522</td>\n",
       "      <td>Residential Burglary</td>\n",
       "      <td>BURGLARY - RESIDENTIAL - NO FORCE</td>\n",
       "      <td>B2</td>\n",
       "      <td>911</td>\n",
       "      <td>0</td>\n",
       "      <td>03/09/18 18:38</td>\n",
       "      <td>2018</td>\n",
       "      <td>9</td>\n",
       "      <td>Monday</td>\n",
       "      <td>18</td>\n",
       "      <td>0.0</td>\n",
       "    </tr>\n",
       "  </tbody>\n",
       "</table>\n",
       "</div>"
      ],
      "text/plain": [
       "  NUMERO_INCIDENTE  CODIGO_CRIME          CODIGO_GRUPO_CRIME  \\\n",
       "0       I182070933           724                  Auto Theft   \n",
       "1       I182070932          3301             Verbal Disputes   \n",
       "2       I182070917          2647                       Other   \n",
       "3       I182070915           614  Larceny From Motor Vehicle   \n",
       "4       I182070908           522        Residential Burglary   \n",
       "\n",
       "                         DESCRICAO_CRIME DISTRITO  AREA_REPORTADA  TEVE_TIRO  \\\n",
       "0                             AUTO THEFT       B2             330          0   \n",
       "1                         VERBAL DISPUTE       B2             584          0   \n",
       "2              THREATS TO DO BODILY HARM       B2             901          0   \n",
       "3  LARCENY THEFT FROM MV - NON-ACCESSORY       B2             181          0   \n",
       "4      BURGLARY - RESIDENTIAL - NO FORCE       B2             911          0   \n",
       "\n",
       "  DATA_OCORRENCIA   ANO  MES DIA_DA_SEMANA  HORA  ALTO_RISCO  \n",
       "0  03/09/18 21:25  2018    9        Monday    21         0.0  \n",
       "1  03/09/18 20:39  2018    9        Monday    20         0.0  \n",
       "2  03/09/18 19:52  2018    9        Monday    19         0.0  \n",
       "3  02/09/18 18:00  2018    9        Sunday    18         0.0  \n",
       "4  03/09/18 18:38  2018    9        Monday    18         0.0  "
      ]
     },
     "execution_count": 2,
     "metadata": {},
     "output_type": "execute_result"
    }
   ],
   "source": [
    "data_base = pd.read_csv('crimes_2.csv', \";\")\n",
    "data_base.head()"
   ]
  },
  {
   "cell_type": "markdown",
   "metadata": {},
   "source": [
    "### Pré-Processamento"
   ]
  },
  {
   "cell_type": "markdown",
   "metadata": {},
   "source": [
    "Verificando quantidade total de registros e atributos:"
   ]
  },
  {
   "cell_type": "code",
   "execution_count": 3,
   "metadata": {},
   "outputs": [
    {
     "data": {
      "text/plain": [
       "(9823, 13)"
      ]
     },
     "execution_count": 3,
     "metadata": {},
     "output_type": "execute_result"
    }
   ],
   "source": [
    "data_base.shape"
   ]
  },
  {
   "cell_type": "markdown",
   "metadata": {},
   "source": [
    "Verificando a quantidade de valores nulos por atributo:"
   ]
  },
  {
   "cell_type": "code",
   "execution_count": 4,
   "metadata": {},
   "outputs": [
    {
     "data": {
      "text/plain": [
       "NUMERO_INCIDENTE      0\n",
       "CODIGO_CRIME          0\n",
       "CODIGO_GRUPO_CRIME    0\n",
       "DESCRICAO_CRIME       0\n",
       "DISTRITO              0\n",
       "AREA_REPORTADA        0\n",
       "TEVE_TIRO             0\n",
       "DATA_OCORRENCIA       0\n",
       "ANO                   0\n",
       "MES                   0\n",
       "DIA_DA_SEMANA         0\n",
       "HORA                  0\n",
       "ALTO_RISCO            1\n",
       "dtype: int64"
      ]
     },
     "execution_count": 4,
     "metadata": {},
     "output_type": "execute_result"
    }
   ],
   "source": [
    "data_base.isnull().sum()"
   ]
  },
  {
   "cell_type": "markdown",
   "metadata": {},
   "source": [
    "Eliminando o único valor nulo no atributo ALTO_RISCO, o qual é de interesse na fase 2 do projeto:"
   ]
  },
  {
   "cell_type": "code",
   "execution_count": 5,
   "metadata": {},
   "outputs": [],
   "source": [
    "data_base_full = data_base.dropna()"
   ]
  },
  {
   "cell_type": "markdown",
   "metadata": {},
   "source": [
    "Verificando quantidade de registros e atributos na base de dados tratada:"
   ]
  },
  {
   "cell_type": "code",
   "execution_count": 6,
   "metadata": {},
   "outputs": [
    {
     "data": {
      "text/plain": [
       "(9822, 13)"
      ]
     },
     "execution_count": 6,
     "metadata": {},
     "output_type": "execute_result"
    }
   ],
   "source": [
    "data_base_full.shape"
   ]
  },
  {
   "cell_type": "markdown",
   "metadata": {},
   "source": [
    "### Manipulação da Base"
   ]
  },
  {
   "cell_type": "markdown",
   "metadata": {},
   "source": [
    "Base de dados com apenas os atributos a serem analisados na fase 2 do projeto:"
   ]
  },
  {
   "cell_type": "code",
   "execution_count": 7,
   "metadata": {},
   "outputs": [
    {
     "data": {
      "text/html": [
       "<div>\n",
       "<style scoped>\n",
       "    .dataframe tbody tr th:only-of-type {\n",
       "        vertical-align: middle;\n",
       "    }\n",
       "\n",
       "    .dataframe tbody tr th {\n",
       "        vertical-align: top;\n",
       "    }\n",
       "\n",
       "    .dataframe thead th {\n",
       "        text-align: right;\n",
       "    }\n",
       "</style>\n",
       "<table border=\"1\" class=\"dataframe\">\n",
       "  <thead>\n",
       "    <tr style=\"text-align: right;\">\n",
       "      <th></th>\n",
       "      <th>NUMERO_INCIDENTE</th>\n",
       "      <th>CODIGO_CRIME</th>\n",
       "      <th>AREA_REPORTADA</th>\n",
       "      <th>TEVE_TIRO</th>\n",
       "      <th>ANO</th>\n",
       "      <th>MES</th>\n",
       "      <th>DIA_DA_SEMANA</th>\n",
       "      <th>HORA</th>\n",
       "      <th>ALTO_RISCO</th>\n",
       "    </tr>\n",
       "  </thead>\n",
       "  <tbody>\n",
       "    <tr>\n",
       "      <th>0</th>\n",
       "      <td>I182070933</td>\n",
       "      <td>724</td>\n",
       "      <td>330</td>\n",
       "      <td>0</td>\n",
       "      <td>2018</td>\n",
       "      <td>9</td>\n",
       "      <td>Monday</td>\n",
       "      <td>21</td>\n",
       "      <td>0.0</td>\n",
       "    </tr>\n",
       "    <tr>\n",
       "      <th>1</th>\n",
       "      <td>I182070932</td>\n",
       "      <td>3301</td>\n",
       "      <td>584</td>\n",
       "      <td>0</td>\n",
       "      <td>2018</td>\n",
       "      <td>9</td>\n",
       "      <td>Monday</td>\n",
       "      <td>20</td>\n",
       "      <td>0.0</td>\n",
       "    </tr>\n",
       "    <tr>\n",
       "      <th>2</th>\n",
       "      <td>I182070917</td>\n",
       "      <td>2647</td>\n",
       "      <td>901</td>\n",
       "      <td>0</td>\n",
       "      <td>2018</td>\n",
       "      <td>9</td>\n",
       "      <td>Monday</td>\n",
       "      <td>19</td>\n",
       "      <td>0.0</td>\n",
       "    </tr>\n",
       "    <tr>\n",
       "      <th>3</th>\n",
       "      <td>I182070915</td>\n",
       "      <td>614</td>\n",
       "      <td>181</td>\n",
       "      <td>0</td>\n",
       "      <td>2018</td>\n",
       "      <td>9</td>\n",
       "      <td>Sunday</td>\n",
       "      <td>18</td>\n",
       "      <td>0.0</td>\n",
       "    </tr>\n",
       "    <tr>\n",
       "      <th>4</th>\n",
       "      <td>I182070908</td>\n",
       "      <td>522</td>\n",
       "      <td>911</td>\n",
       "      <td>0</td>\n",
       "      <td>2018</td>\n",
       "      <td>9</td>\n",
       "      <td>Monday</td>\n",
       "      <td>18</td>\n",
       "      <td>0.0</td>\n",
       "    </tr>\n",
       "  </tbody>\n",
       "</table>\n",
       "</div>"
      ],
      "text/plain": [
       "  NUMERO_INCIDENTE  CODIGO_CRIME  AREA_REPORTADA  TEVE_TIRO   ANO  MES  \\\n",
       "0       I182070933           724             330          0  2018    9   \n",
       "1       I182070932          3301             584          0  2018    9   \n",
       "2       I182070917          2647             901          0  2018    9   \n",
       "3       I182070915           614             181          0  2018    9   \n",
       "4       I182070908           522             911          0  2018    9   \n",
       "\n",
       "  DIA_DA_SEMANA  HORA  ALTO_RISCO  \n",
       "0        Monday    21         0.0  \n",
       "1        Monday    20         0.0  \n",
       "2        Monday    19         0.0  \n",
       "3        Sunday    18         0.0  \n",
       "4        Monday    18         0.0  "
      ]
     },
     "execution_count": 7,
     "metadata": {},
     "output_type": "execute_result"
    }
   ],
   "source": [
    "fase2 = data_base_full.drop(columns=[\"CODIGO_GRUPO_CRIME\", \"DATA_OCORRENCIA\", \"DESCRICAO_CRIME\", \"DISTRITO\"]) \n",
    "\n",
    "fase2.head() # base de dados da fase 2"
   ]
  },
  {
   "cell_type": "markdown",
   "metadata": {},
   "source": [
    "Verificando o número de crimes por grau de risco:"
   ]
  },
  {
   "cell_type": "code",
   "execution_count": 8,
   "metadata": {},
   "outputs": [
    {
     "data": {
      "text/plain": [
       "0.0    8890\n",
       "1.0     932\n",
       "Name: ALTO_RISCO, dtype: int64"
      ]
     },
     "execution_count": 8,
     "metadata": {},
     "output_type": "execute_result"
    }
   ],
   "source": [
    "fase2[\"ALTO_RISCO\"].value_counts()"
   ]
  },
  {
   "cell_type": "markdown",
   "metadata": {},
   "source": [
    "Verificando o número de crimes por área reportada:"
   ]
  },
  {
   "cell_type": "code",
   "execution_count": 9,
   "metadata": {},
   "outputs": [
    {
     "data": {
      "text/plain": [
       "0      702\n",
       "329    407\n",
       "282    277\n",
       "311    255\n",
       "330    247\n",
       "      ... \n",
       "572      1\n",
       "61       1\n",
       "277      1\n",
       "285      1\n",
       "124      1\n",
       "Name: AREA_REPORTADA, Length: 122, dtype: int64"
      ]
     },
     "execution_count": 9,
     "metadata": {},
     "output_type": "execute_result"
    }
   ],
   "source": [
    "fase2[\"AREA_REPORTADA\"].value_counts()"
   ]
  },
  {
   "cell_type": "markdown",
   "metadata": {},
   "source": [
    "Verificando o número de crimes por mês:"
   ]
  },
  {
   "cell_type": "code",
   "execution_count": 10,
   "metadata": {},
   "outputs": [
    {
     "data": {
      "text/plain": [
       "6     1358\n",
       "5     1300\n",
       "7     1290\n",
       "4     1225\n",
       "8     1218\n",
       "3     1187\n",
       "1     1094\n",
       "2     1020\n",
       "9      102\n",
       "12      17\n",
       "10       6\n",
       "11       5\n",
       "Name: MES, dtype: int64"
      ]
     },
     "execution_count": 10,
     "metadata": {},
     "output_type": "execute_result"
    }
   ],
   "source": [
    "fase2[\"MES\"].value_counts()"
   ]
  },
  {
   "cell_type": "markdown",
   "metadata": {},
   "source": [
    "Verificando o número de crimes por dias da semana:"
   ]
  },
  {
   "cell_type": "code",
   "execution_count": 11,
   "metadata": {},
   "outputs": [
    {
     "data": {
      "text/plain": [
       "Friday       1517\n",
       "Wednesday    1511\n",
       "Thursday     1431\n",
       "Tuesday      1421\n",
       "Monday       1386\n",
       "Saturday     1358\n",
       "Sunday       1198\n",
       "Name: DIA_DA_SEMANA, dtype: int64"
      ]
     },
     "execution_count": 11,
     "metadata": {},
     "output_type": "execute_result"
    }
   ],
   "source": [
    "fase2[\"DIA_DA_SEMANA\"].value_counts()"
   ]
  },
  {
   "cell_type": "markdown",
   "metadata": {},
   "source": [
    "Verificando o número de crimes por hora:"
   ]
  },
  {
   "cell_type": "code",
   "execution_count": 12,
   "metadata": {},
   "outputs": [
    {
     "data": {
      "text/plain": [
       "18    618\n",
       "16    588\n",
       "17    588\n",
       "12    578\n",
       "14    569\n",
       "11    557\n",
       "19    516\n",
       "15    514\n",
       "13    498\n",
       "20    494\n",
       "21    482\n",
       "10    461\n",
       "0     443\n",
       "9     420\n",
       "22    415\n",
       "8     365\n",
       "23    364\n",
       "1     294\n",
       "7     278\n",
       "2     243\n",
       "6     175\n",
       "3     145\n",
       "4     110\n",
       "5     107\n",
       "Name: HORA, dtype: int64"
      ]
     },
     "execution_count": 12,
     "metadata": {},
     "output_type": "execute_result"
    }
   ],
   "source": [
    "fase2[\"HORA\"].value_counts()"
   ]
  },
  {
   "cell_type": "markdown",
   "metadata": {},
   "source": [
    "### Resultados estatísticos/analíticos"
   ]
  },
  {
   "cell_type": "markdown",
   "metadata": {},
   "source": [
    "Gráfico de pizza para análise da porcentagem de crimes por grau de risco (zero ou um):"
   ]
  },
  {
   "cell_type": "code",
   "execution_count": 30,
   "metadata": {},
   "outputs": [
    {
     "data": {
      "image/png": "[encoded data removed]",
      "text/plain": [
       "<Figure size 432x288 with 1 Axes>"
      ]
     },
     "metadata": {},
     "output_type": "display_data"
    }
   ],
   "source": [
    "legenda_risco = 'baixo risco - 0 (zero)', 'alto risco - 1 (um)'\n",
    "fatias = (0.05, 0.1)\n",
    "valores_risco = fase2[\"ALTO_RISCO\"].value_counts()\n",
    "plt.pie(valores_risco, explode = fatias, labels = legenda_risco, autopct='%1.1f%%', startangle=90)\n",
    "plt.title('PORCENTAGEM DE CRIMES POR GRAU DE RISCO - Distrito B2')\n",
    "plt.savefig('fase2_1.png', format='png')\n",
    "plt.show()"
   ]
  },
  {
   "cell_type": "markdown",
   "metadata": {},
   "source": [
    "Gráfico de barras para análise do número de crimes em 2018 por grau de risco ao considerar o distrito B2:"
   ]
  },
  {
   "cell_type": "code",
   "execution_count": 31,
   "metadata": {},
   "outputs": [
    {
     "data": {
      "image/png": "[encoded data removed]",
      "text/plain": [
       "<Figure size 432x288 with 1 Axes>"
      ]
     },
     "metadata": {
      "needs_background": "light"
     },
     "output_type": "display_data"
    }
   ],
   "source": [
    "alto_risco = fase2[\"ALTO_RISCO\"]\n",
    "alto_risco.value_counts().plot.bar()\n",
    "plt.xticks(rotation=0)\n",
    "plt.xticks()\n",
    "plt.yticks()\n",
    "plt.xlabel('Grau do Crime')\n",
    "plt.ylabel('Número de Crimes')\n",
    "plt.title('CRIMES EM 2018 POR GRAU - Distrito B2')\n",
    "\n",
    "media_crimes = data_base[\"ALTO_RISCO\"].value_counts().mean()\n",
    "plt.hlines(media_crimes, -1,2, linestyles='dashed')\n",
    "plt.annotate('média do número de crimes',(0.6, media_crimes+200))\n",
    "\n",
    "media_grau = data_base[\"ALTO_RISCO\"].mode()\n",
    "plt.vlines(media_grau, 0,9300, linestyles='dashed')\n",
    "plt.annotate('moda de grau do crime',(0.02, media_grau+9000))\n",
    "plt.savefig('fase2_2.png', format='png')\n",
    "plt.tight_layout()"
   ]
  },
  {
   "cell_type": "markdown",
   "metadata": {},
   "source": [
    "### Modelo Preditivo\n",
    "\n",
    "#### Nome da Tecnica: Regressão Logística\n",
    "#### Referências Bibliográficas: \n",
    "1. IBM. (Produtor). Introdução à classificação [Arquivo de vídeo], 2018.\n",
    "2. IBM. (Produtor). Introdução à regressão logística [Arquivo de vídeo], 2018.\n",
    "3. IBM. (Produtor). Regressão logística vs. linear [Arquivo de vídeo], 2018."
   ]
  },
  {
   "cell_type": "code",
   "execution_count": 15,
   "metadata": {},
   "outputs": [
    {
     "data": {
      "text/html": [
       "<div>\n",
       "<style scoped>\n",
       "    .dataframe tbody tr th:only-of-type {\n",
       "        vertical-align: middle;\n",
       "    }\n",
       "\n",
       "    .dataframe tbody tr th {\n",
       "        vertical-align: top;\n",
       "    }\n",
       "\n",
       "    .dataframe thead th {\n",
       "        text-align: right;\n",
       "    }\n",
       "</style>\n",
       "<table border=\"1\" class=\"dataframe\">\n",
       "  <thead>\n",
       "    <tr style=\"text-align: right;\">\n",
       "      <th></th>\n",
       "      <th>NUMERO_INCIDENTE</th>\n",
       "      <th>CODIGO_CRIME</th>\n",
       "      <th>AREA_REPORTADA</th>\n",
       "      <th>TEVE_TIRO</th>\n",
       "      <th>ANO</th>\n",
       "      <th>MES</th>\n",
       "      <th>DIA_DA_SEMANA</th>\n",
       "      <th>HORA</th>\n",
       "      <th>ALTO_RISCO</th>\n",
       "    </tr>\n",
       "  </thead>\n",
       "  <tbody>\n",
       "    <tr>\n",
       "      <th>0</th>\n",
       "      <td>I182070933</td>\n",
       "      <td>724</td>\n",
       "      <td>330</td>\n",
       "      <td>0</td>\n",
       "      <td>2018</td>\n",
       "      <td>9</td>\n",
       "      <td>Monday</td>\n",
       "      <td>21</td>\n",
       "      <td>0.0</td>\n",
       "    </tr>\n",
       "    <tr>\n",
       "      <th>1</th>\n",
       "      <td>I182070932</td>\n",
       "      <td>3301</td>\n",
       "      <td>584</td>\n",
       "      <td>0</td>\n",
       "      <td>2018</td>\n",
       "      <td>9</td>\n",
       "      <td>Monday</td>\n",
       "      <td>20</td>\n",
       "      <td>0.0</td>\n",
       "    </tr>\n",
       "    <tr>\n",
       "      <th>2</th>\n",
       "      <td>I182070917</td>\n",
       "      <td>2647</td>\n",
       "      <td>901</td>\n",
       "      <td>0</td>\n",
       "      <td>2018</td>\n",
       "      <td>9</td>\n",
       "      <td>Monday</td>\n",
       "      <td>19</td>\n",
       "      <td>0.0</td>\n",
       "    </tr>\n",
       "    <tr>\n",
       "      <th>3</th>\n",
       "      <td>I182070915</td>\n",
       "      <td>614</td>\n",
       "      <td>181</td>\n",
       "      <td>0</td>\n",
       "      <td>2018</td>\n",
       "      <td>9</td>\n",
       "      <td>Sunday</td>\n",
       "      <td>18</td>\n",
       "      <td>0.0</td>\n",
       "    </tr>\n",
       "    <tr>\n",
       "      <th>4</th>\n",
       "      <td>I182070908</td>\n",
       "      <td>522</td>\n",
       "      <td>911</td>\n",
       "      <td>0</td>\n",
       "      <td>2018</td>\n",
       "      <td>9</td>\n",
       "      <td>Monday</td>\n",
       "      <td>18</td>\n",
       "      <td>0.0</td>\n",
       "    </tr>\n",
       "  </tbody>\n",
       "</table>\n",
       "</div>"
      ],
      "text/plain": [
       "  NUMERO_INCIDENTE  CODIGO_CRIME  AREA_REPORTADA  TEVE_TIRO   ANO  MES  \\\n",
       "0       I182070933           724             330          0  2018    9   \n",
       "1       I182070932          3301             584          0  2018    9   \n",
       "2       I182070917          2647             901          0  2018    9   \n",
       "3       I182070915           614             181          0  2018    9   \n",
       "4       I182070908           522             911          0  2018    9   \n",
       "\n",
       "  DIA_DA_SEMANA  HORA  ALTO_RISCO  \n",
       "0        Monday    21         0.0  \n",
       "1        Monday    20         0.0  \n",
       "2        Monday    19         0.0  \n",
       "3        Sunday    18         0.0  \n",
       "4        Monday    18         0.0  "
      ]
     },
     "execution_count": 15,
     "metadata": {},
     "output_type": "execute_result"
    }
   ],
   "source": [
    "fase2.head()"
   ]
  },
  {
   "cell_type": "markdown",
   "metadata": {},
   "source": [
    "Seleção dos dados numéricos para aplicação da regressão logística:"
   ]
  },
  {
   "cell_type": "code",
   "execution_count": 16,
   "metadata": {},
   "outputs": [
    {
     "data": {
      "text/html": [
       "<div>\n",
       "<style scoped>\n",
       "    .dataframe tbody tr th:only-of-type {\n",
       "        vertical-align: middle;\n",
       "    }\n",
       "\n",
       "    .dataframe tbody tr th {\n",
       "        vertical-align: top;\n",
       "    }\n",
       "\n",
       "    .dataframe thead th {\n",
       "        text-align: right;\n",
       "    }\n",
       "</style>\n",
       "<table border=\"1\" class=\"dataframe\">\n",
       "  <thead>\n",
       "    <tr style=\"text-align: right;\">\n",
       "      <th></th>\n",
       "      <th>CODIGO_CRIME</th>\n",
       "      <th>AREA_REPORTADA</th>\n",
       "      <th>TEVE_TIRO</th>\n",
       "      <th>ANO</th>\n",
       "      <th>MES</th>\n",
       "      <th>HORA</th>\n",
       "      <th>ALTO_RISCO</th>\n",
       "    </tr>\n",
       "  </thead>\n",
       "  <tbody>\n",
       "    <tr>\n",
       "      <th>0</th>\n",
       "      <td>724</td>\n",
       "      <td>330</td>\n",
       "      <td>0</td>\n",
       "      <td>2018</td>\n",
       "      <td>9</td>\n",
       "      <td>21</td>\n",
       "      <td>0</td>\n",
       "    </tr>\n",
       "    <tr>\n",
       "      <th>1</th>\n",
       "      <td>3301</td>\n",
       "      <td>584</td>\n",
       "      <td>0</td>\n",
       "      <td>2018</td>\n",
       "      <td>9</td>\n",
       "      <td>20</td>\n",
       "      <td>0</td>\n",
       "    </tr>\n",
       "    <tr>\n",
       "      <th>2</th>\n",
       "      <td>2647</td>\n",
       "      <td>901</td>\n",
       "      <td>0</td>\n",
       "      <td>2018</td>\n",
       "      <td>9</td>\n",
       "      <td>19</td>\n",
       "      <td>0</td>\n",
       "    </tr>\n",
       "    <tr>\n",
       "      <th>3</th>\n",
       "      <td>614</td>\n",
       "      <td>181</td>\n",
       "      <td>0</td>\n",
       "      <td>2018</td>\n",
       "      <td>9</td>\n",
       "      <td>18</td>\n",
       "      <td>0</td>\n",
       "    </tr>\n",
       "    <tr>\n",
       "      <th>4</th>\n",
       "      <td>522</td>\n",
       "      <td>911</td>\n",
       "      <td>0</td>\n",
       "      <td>2018</td>\n",
       "      <td>9</td>\n",
       "      <td>18</td>\n",
       "      <td>0</td>\n",
       "    </tr>\n",
       "  </tbody>\n",
       "</table>\n",
       "</div>"
      ],
      "text/plain": [
       "   CODIGO_CRIME  AREA_REPORTADA  TEVE_TIRO   ANO  MES  HORA  ALTO_RISCO\n",
       "0           724             330          0  2018    9    21           0\n",
       "1          3301             584          0  2018    9    20           0\n",
       "2          2647             901          0  2018    9    19           0\n",
       "3           614             181          0  2018    9    18           0\n",
       "4           522             911          0  2018    9    18           0"
      ]
     },
     "execution_count": 16,
     "metadata": {},
     "output_type": "execute_result"
    }
   ],
   "source": [
    "fase2 = fase2[['CODIGO_CRIME', 'AREA_REPORTADA','TEVE_TIRO', 'ANO', 'MES', 'HORA', 'ALTO_RISCO']]\n",
    "fase2['ALTO_RISCO'] = fase2['ALTO_RISCO'].astype('int')\n",
    "fase2.head() # seleção dos dados numéricos"
   ]
  },
  {
   "cell_type": "markdown",
   "metadata": {},
   "source": [
    "Definição do conjunto de dados para aplicação da regressão logística:"
   ]
  },
  {
   "cell_type": "code",
   "execution_count": 17,
   "metadata": {},
   "outputs": [
    {
     "data": {
      "text/plain": [
       "array([[ 724,  330,    0, 2018,    9,   21],\n",
       "       [3301,  584,    0, 2018,    9,   20],\n",
       "       [2647,  901,    0, 2018,    9,   19],\n",
       "       [ 614,  181,    0, 2018,    9,   18],\n",
       "       [ 522,  911,    0, 2018,    9,   18]], dtype=int64)"
      ]
     },
     "execution_count": 17,
     "metadata": {},
     "output_type": "execute_result"
    }
   ],
   "source": [
    "X = np.asarray(fase2[['CODIGO_CRIME', 'AREA_REPORTADA','TEVE_TIRO', 'ANO', 'MES', 'HORA']])\n",
    "X[0:5] # definição do conjunto de dados"
   ]
  },
  {
   "cell_type": "code",
   "execution_count": 18,
   "metadata": {},
   "outputs": [
    {
     "data": {
      "text/plain": [
       "array([0, 0, 0, 0, 0])"
      ]
     },
     "execution_count": 18,
     "metadata": {},
     "output_type": "execute_result"
    }
   ],
   "source": [
    "y = np.asarray(fase2['ALTO_RISCO'])\n",
    "y[0:5] # definição do conjunto de dados"
   ]
  },
  {
   "cell_type": "markdown",
   "metadata": {},
   "source": [
    "Normalização do conjunto de dados:"
   ]
  },
  {
   "cell_type": "code",
   "execution_count": 19,
   "metadata": {},
   "outputs": [
    {
     "data": {
      "text/plain": [
       "array([[-1.45084244,  0.05119122, -0.08225003,  0.07080829,  1.86298986,\n",
       "         1.23273554],\n",
       "       [ 0.77428389,  1.56755572, -0.08225003,  0.07080829,  1.86298986,\n",
       "         1.07490965],\n",
       "       [ 0.20958361,  3.46002637, -0.08225003,  0.07080829,  1.86298986,\n",
       "         0.91708377],\n",
       "       [-1.54582261, -0.83832968, -0.08225003,  0.07080829,  1.86298986,\n",
       "         0.75925788],\n",
       "       [-1.62526057,  3.51972576, -0.08225003,  0.07080829,  1.86298986,\n",
       "         0.75925788]])"
      ]
     },
     "execution_count": 19,
     "metadata": {},
     "output_type": "execute_result"
    }
   ],
   "source": [
    "from sklearn import preprocessing\n",
    "X = preprocessing.StandardScaler().fit(X).transform(X)\n",
    "X[0:5] # normalização do conjunto de dados"
   ]
  },
  {
   "cell_type": "markdown",
   "metadata": {},
   "source": [
    "Treinamento e teste do conjunto de dados:"
   ]
  },
  {
   "cell_type": "code",
   "execution_count": 20,
   "metadata": {},
   "outputs": [
    {
     "name": "stdout",
     "output_type": "stream",
     "text": [
      "Train set: (7857, 6) (7857,)\n",
      "Test set: (1965, 6) (1965,)\n"
     ]
    }
   ],
   "source": [
    "from sklearn.model_selection import train_test_split # treinamento e teste do conjunto de dados\n",
    "X_train, X_test, y_train, y_test = train_test_split( X, y, test_size=0.2, random_state=4)\n",
    "print ('Train set:', X_train.shape,  y_train.shape)\n",
    "print ('Test set:', X_test.shape,  y_test.shape)"
   ]
  },
  {
   "cell_type": "markdown",
   "metadata": {},
   "source": [
    "Aplicação da regressão logística com uso do recurso Scikit-learn:"
   ]
  },
  {
   "cell_type": "code",
   "execution_count": 21,
   "metadata": {},
   "outputs": [
    {
     "data": {
      "text/plain": [
       "LogisticRegression(C=0.01, class_weight=None, dual=False, fit_intercept=True,\n",
       "                   intercept_scaling=1, l1_ratio=None, max_iter=100,\n",
       "                   multi_class='warn', n_jobs=None, penalty='l2',\n",
       "                   random_state=None, solver='liblinear', tol=0.0001, verbose=0,\n",
       "                   warm_start=False)"
      ]
     },
     "execution_count": 21,
     "metadata": {},
     "output_type": "execute_result"
    }
   ],
   "source": [
    "from sklearn.linear_model import LogisticRegression # regressão logística com Scikit-learn\n",
    "from sklearn.metrics import confusion_matrix\n",
    "LR = LogisticRegression(C=0.01, solver='liblinear').fit(X_train,y_train)\n",
    "LR"
   ]
  },
  {
   "cell_type": "code",
   "execution_count": 22,
   "metadata": {},
   "outputs": [
    {
     "data": {
      "text/plain": [
       "array([0, 0, 0, ..., 0, 0, 0])"
      ]
     },
     "execution_count": 22,
     "metadata": {},
     "output_type": "execute_result"
    }
   ],
   "source": [
    "yhat = LR.predict(X_test) # previsão através do conjunto de teste\n",
    "yhat"
   ]
  },
  {
   "cell_type": "code",
   "execution_count": 23,
   "metadata": {},
   "outputs": [
    {
     "data": {
      "text/plain": [
       "array([[0.92483323, 0.07516677],\n",
       "       [0.70061832, 0.29938168],\n",
       "       [0.85888756, 0.14111244],\n",
       "       ...,\n",
       "       [0.9338571 , 0.0661429 ],\n",
       "       [0.95499077, 0.04500923],\n",
       "       [0.73776581, 0.26223419]])"
      ]
     },
     "execution_count": 23,
     "metadata": {},
     "output_type": "execute_result"
    }
   ],
   "source": [
    "yhat_prob = LR.predict_proba(X_test)\n",
    "yhat_prob # primeira coluna é a probabilidade da classe 1 e a segunda coluna é a probabilidade da classe 0"
   ]
  },
  {
   "cell_type": "markdown",
   "metadata": {},
   "source": [
    "Determinação do índice de Jaccard:"
   ]
  },
  {
   "cell_type": "code",
   "execution_count": 24,
   "metadata": {},
   "outputs": [
    {
     "name": "stderr",
     "output_type": "stream",
     "text": [
      "C:\\Users\\kauerosalem\\anaconda3\\lib\\site-packages\\sklearn\\metrics\\classification.py:635: DeprecationWarning: jaccard_similarity_score has been deprecated and replaced with jaccard_score. It will be removed in version 0.23. This implementation has surprising behavior for binary and multiclass classification tasks.\n",
      "  'and multiclass classification tasks.', DeprecationWarning)\n"
     ]
    },
    {
     "data": {
      "text/plain": [
       "0.9048346055979644"
      ]
     },
     "execution_count": 24,
     "metadata": {},
     "output_type": "execute_result"
    }
   ],
   "source": [
    "from sklearn.metrics import jaccard_similarity_score # avaliação da precisão com o índice de Jaccard\n",
    "jaccard_similarity_score(y_test, yhat) # melhor precisão do subconjunto será 1.0 caso contrário será 0.0"
   ]
  },
  {
   "cell_type": "markdown",
   "metadata": {},
   "source": [
    "Cálculo dos valores da matriz de confusão:"
   ]
  },
  {
   "cell_type": "code",
   "execution_count": 25,
   "metadata": {},
   "outputs": [
    {
     "name": "stdout",
     "output_type": "stream",
     "text": [
      "[[   3  181]\n",
      " [   6 1775]]\n"
     ]
    }
   ],
   "source": [
    "from sklearn.metrics import classification_report, confusion_matrix # desenvolvimento da matriz de confusão\n",
    "import itertools\n",
    "def plot_confusion_matrix(cm, classes,\n",
    "                          normalize=False,\n",
    "                          title='Confusion matrix',\n",
    "                          cmap=plt.cm.Spectral):\n",
    "    \"\"\"\n",
    "    This function prints and plots the confusion matrix.\n",
    "    Normalization can be applied by setting `normalize=True`.\n",
    "    \"\"\"\n",
    "    if normalize:\n",
    "        cm = cm.astype('float') / cm.sum(axis=1)[:, np.newaxis]\n",
    "        print(\"Normalized confusion matrix\")\n",
    "    else:\n",
    "        print('Confusion matrix, without normalization')\n",
    "\n",
    "    print(cm)\n",
    "\n",
    "    plt.imshow(cm, interpolation='nearest', cmap=cmap)\n",
    "    plt.title(title)\n",
    "    plt.colorbar()\n",
    "    tick_marks = np.arange(len(classes))\n",
    "    plt.xticks(tick_marks, classes, rotation=45)\n",
    "    plt.yticks(tick_marks, classes)\n",
    "\n",
    "    fmt = '.2f' if normalize else 'd'\n",
    "    thresh = cm.max() / 2.\n",
    "    for i, j in itertools.product(range(cm.shape[0]), range(cm.shape[1])):\n",
    "        plt.text(j, i, format(cm[i, j], fmt),\n",
    "                horizontalalignment=\"center\",\n",
    "                 color=\"white\")# if cm[i, j] > thresh else \"black\")\n",
    "\n",
    "    plt.tight_layout()\n",
    "    plt.ylabel('Valor Verdadeiro (confirmado por análise)')\n",
    "    plt.xlabel('Valor Previsto (predito pelo teste)')\n",
    "print(confusion_matrix(y_test, yhat, labels=[1,0]))"
   ]
  },
  {
   "cell_type": "markdown",
   "metadata": {},
   "source": [
    "Gráfico da matriz de confusão não-normalizada:"
   ]
  },
  {
   "cell_type": "code",
   "execution_count": 32,
   "metadata": {},
   "outputs": [
    {
     "name": "stdout",
     "output_type": "stream",
     "text": [
      "Confusion matrix, without normalization\n",
      "[[   3  181]\n",
      " [   6 1775]]\n"
     ]
    },
    {
     "data": {
      "image/png": "[encoded data removed]",
      "text/plain": [
       "<Figure size 432x288 with 2 Axes>"
      ]
     },
     "metadata": {
      "needs_background": "light"
     },
     "output_type": "display_data"
    }
   ],
   "source": [
    "# Computando a matriz de confusão\n",
    "cnf_matrix = confusion_matrix(y_test, yhat, labels=[1,0])\n",
    "np.set_printoptions(precision=2)\n",
    "\n",
    "# Plote da matriz de confusão não-normalizada\n",
    "plt.figure()\n",
    "plot_confusion_matrix(cnf_matrix, classes=['Risco = 1','Risco = 0'],normalize = False,  title='Matriz de Confusão')\n",
    "plt.savefig('fase2_3.png', format='png')"
   ]
  },
  {
   "cell_type": "markdown",
   "metadata": {},
   "source": [
    "Gráfico da matriz de confusão normalizada:"
   ]
  },
  {
   "cell_type": "code",
   "execution_count": 33,
   "metadata": {},
   "outputs": [
    {
     "name": "stdout",
     "output_type": "stream",
     "text": [
      "Normalized confusion matrix\n",
      "[[0.02 0.98]\n",
      " [0.   1.  ]]\n"
     ]
    },
    {
     "data": {
      "image/png": "[encoded data removed]",
      "text/plain": [
       "<Figure size 432x288 with 2 Axes>"
      ]
     },
     "metadata": {
      "needs_background": "light"
     },
     "output_type": "display_data"
    }
   ],
   "source": [
    "# Plote da matriz de confusão normalizada\n",
    "plt.figure()\n",
    "plot_confusion_matrix(cnf_matrix, classes=['Risco = 1','Risco = 0'],normalize = True,  title='Matriz de Confusão')\n",
    "plt.savefig('fase2_4.png', format='png')"
   ]
  },
  {
   "cell_type": "markdown",
   "metadata": {},
   "source": [
    "Precisão, revocação e média hamônica:"
   ]
  },
  {
   "cell_type": "code",
   "execution_count": 28,
   "metadata": {},
   "outputs": [
    {
     "name": "stdout",
     "output_type": "stream",
     "text": [
      "              precision    recall  f1-score   support\n",
      "\n",
      "           0       0.91      1.00      0.95      1781\n",
      "           1       0.33      0.02      0.03       184\n",
      "\n",
      "    accuracy                           0.90      1965\n",
      "   macro avg       0.62      0.51      0.49      1965\n",
      "weighted avg       0.85      0.90      0.86      1965\n",
      "\n"
     ]
    }
   ],
   "source": [
    "print (classification_report(y_test, yhat)) \n",
    "# A precisão (precision) é uma medida da exatidão: precisão = TP / (TP + FP)\n",
    "# A revocação (recall) é a taxa de verdadeiros positivos: revocação = TP / (TP + FN)\n",
    "# F1 é a média harmônica da precisão e da revocação; seu melhor valor em 1 (precisão e revocação perfeitas) e o pior em 0"
   ]
  },
  {
   "cell_type": "code",
   "execution_count": 29,
   "metadata": {},
   "outputs": [
    {
     "data": {
      "text/plain": [
       "0.2722905996560797"
      ]
     },
     "execution_count": 29,
     "metadata": {},
     "output_type": "execute_result"
    }
   ],
   "source": [
    "from sklearn.metrics import log_loss\n",
    "log_loss(y_test, yhat_prob)\n",
    "# Log loss (perda logarítmica) mede o desempenho de um classificador: probabilidade entre 0 e 1"
   ]
  },
  {
   "cell_type": "markdown",
   "metadata": {},
   "source": [
    "### Análises e Conclusões"
   ]
  },
  {
   "cell_type": "markdown",
   "metadata": {},
   "source": [
    "Na fase 2 do projeto \"Desvendando crimes na cidade de Boston\" verificou-se inicialmente o número de crimes por grau de risco e a porcentagem relativa entre as classificações zero e um. Para uma análise estatística, apresentou-se no gráfico de barras a média de crimes e a moda referente ao grau de risco, a qual é dada pelo grau zero. Um modelo preditivo, dado pela regressão logística, foi aplicado à base de dados do distrito B2, a qual é composta pelos seguintes atributos: código do crime; área reportada; teve tiro; ano; mês; hora; alto risco. Para análise deste modelo, utilizou-se uma matriz de confusão com referência ao grau de risco dos crimes, o qual se apresenta com valores binários (zero e um). A matriz de confusão foi obtida de forma não-normalizada e normalizada para uma completa análise dos dados. De acordo com a matriz de confusão: o modelo classificou 3 crimes como grau 1 (um) e que realmente eram de grau 1 (um); o modelo classificou 181 crimes como grau 0 (zero) que na verdade eram de grau 1 (um); o modelo classificou 6 crimes como grau 1 (um) que na verdade eram de grau 0 (zero); o modelo classificou 1775 crimes como grau 0 (zero) que realmente eram de grau 0 (zero)."
   ]
  }
 ],
 "metadata": {
  "anaconda-cloud": {},
  "kernelspec": {
   "display_name": "Python 3",
   "language": "python",
   "name": "python3"
  },
  "language_info": {
   "codemirror_mode": {
    "name": "ipython",
    "version": 3
   },
   "file_extension": ".py",
   "mimetype": "text/x-python",
   "name": "python",
   "nbconvert_exporter": "python",
   "pygments_lexer": "ipython3",
   "version": "3.7.6"
  }
 },
 "nbformat": 4,
 "nbformat_minor": 1
}
